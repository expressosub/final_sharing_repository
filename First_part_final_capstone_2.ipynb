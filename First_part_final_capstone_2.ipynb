{
 "cells": [
  {
   "cell_type": "markdown",
   "metadata": {},
   "source": [
    "\n",
    "<h2 align=center>Segmenting and Exploring specific areas of the city of Vancouver</h2>\n",
    "<h4 align=center>First part - Capstone Project - The Battle of Neighborhoods</h4>\n"
   ]
  },
  {
   "cell_type": "markdown",
   "metadata": {},
   "source": [
    "### 1. Introduction"
   ]
  },
  {
   "cell_type": "markdown",
   "metadata": {},
   "source": [
    "The city of Vancouver is part of the province of British Columbia and has the highest population density in Canada, with more than 5,400 people per square kilometer. It is one of the cities with the greatest ethnic and linguistic diversity in Canada, with 52% of the population speaking a first language other than English. With its panoramic views, mild climate and friendly people, Vancouver was one of the venues for famous international events such as the 2010 Winter Olympics and the 2010 Winter Paralympic Games."
   ]
  },
  {
   "cell_type": "markdown",
   "metadata": {},
   "source": [
    "### 2.   Business Understanding\n",
    "\n",
    "According to the official page of the city of Vancouver, the city consists of a number of smaller neighborhoods and communities, where these neighborhoods being divided into 22 distinct areas. We will focus only on these 22 neighborhoods.\n",
    "\n",
    "Our client is interested in exploring the neighborhood with more different places and from there, exploring the best hotels and restaurants  with the best reviews during their stay in Vancouver. We will also find Italian restaurant options in the region, in case he is interested.\n",
    "\n",
    "Therefore, our main objective is to explore the neighborhoods of the city of Vancouver trying to find the most diverse and from there to explore the best places to visit. To do this, we will initially use the k-means clustering algorithm to segment neighborhoods according to the most common places, using the resources of the Foursquare API, to collect information from the various places located in Vancouver. We will use the map feature (folium) to better visualize the results.\n"
   ]
  }
 ],
 "metadata": {
  "kernelspec": {
   "display_name": "Python",
   "language": "python",
   "name": "conda-env-python-py"
  },
  "language_info": {
   "codemirror_mode": {
    "name": "ipython",
    "version": 3
   },
   "file_extension": ".py",
   "mimetype": "text/x-python",
   "name": "python",
   "nbconvert_exporter": "python",
   "pygments_lexer": "ipython3",
   "version": "3.6.12"
  }
 },
 "nbformat": 4,
 "nbformat_minor": 4
}
